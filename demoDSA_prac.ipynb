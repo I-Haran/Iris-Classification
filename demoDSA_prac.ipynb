{
  "nbformat": 4,
  "nbformat_minor": 0,
  "metadata": {
    "colab": {
      "provenance": [],
      "authorship_tag": "ABX9TyN2Dzp5+ezOIxu1gJTnBVor",
      "include_colab_link": true
    },
    "kernelspec": {
      "name": "python3",
      "display_name": "Python 3"
    },
    "language_info": {
      "name": "python"
    }
  },
  "cells": [
    {
      "cell_type": "markdown",
      "metadata": {
        "id": "view-in-github",
        "colab_type": "text"
      },
      "source": [
        "<a href=\"https://colab.research.google.com/github/I-Haran/Iris-Classification/blob/main/demoDSA_prac.ipynb\" target=\"_parent\"><img src=\"https://colab.research.google.com/assets/colab-badge.svg\" alt=\"Open In Colab\"/></a>"
      ]
    },
    {
      "cell_type": "code",
      "execution_count": 1,
      "metadata": {
        "id": "wex5-vAPwKdh"
      },
      "outputs": [],
      "source": [
        "import pandas as pd"
      ]
    },
    {
      "cell_type": "markdown",
      "source": [
        "**to read csv files **\n",
        "`df = pd.read_csv(\"file path\")`\n",
        "**to read excel file **\n",
        "`df = pd.read_excel(\"file path\")`"
      ],
      "metadata": {
        "id": "flgZs4Ajwle6"
      }
    },
    {
      "cell_type": "markdown",
      "source": [
        "# keywords"
      ],
      "metadata": {
        "id": "XNOg_0AZw9ez"
      }
    },
    {
      "cell_type": "markdown",
      "source": [
        "*to print first few rows of df*\n",
        "`df.head()`"
      ],
      "metadata": {
        "id": "Qi7yfc1TxMxf"
      }
    },
    {
      "cell_type": "markdown",
      "source": [
        "to print the total rows and columns\n",
        "\n",
        "```\n",
        "df.shape\n",
        "```\n",
        "to print the summary (non-null , dtype)\n",
        "\n",
        "\n",
        "```\n",
        "df.info()\n",
        "```\n",
        "\n",
        "\n"
      ],
      "metadata": {
        "id": "8Sbw8f00xhKk"
      }
    },
    {
      "cell_type": "markdown",
      "source": [
        "to print statistical insights(mean,mode,sd,count,min,max)\n",
        " `df.describe()`\n",
        "to count the unique value ie species in IRIS\n",
        " `df.value_counts(\"Species\")`"
      ],
      "metadata": {
        "id": "-G7cQSKYyFFA"
      }
    },
    {
      "cell_type": "markdown",
      "source": [
        "# Count Plot"
      ],
      "metadata": {
        "id": "rK7ypSdLypv8"
      }
    },
    {
      "cell_type": "markdown",
      "source": [
        "\n",
        "```\n",
        "import seaborn as sns\n",
        "import matplotlib.pyplot as plt\n",
        "plt.title('Species Count')\n",
        "sns.countplot(df[\"Species\"])\n",
        "plt.show()\n",
        "```\n",
        "\n",
        "\n"
      ],
      "metadata": {
        "id": "3WQyj732zCWh"
      }
    },
    {
      "cell_type": "markdown",
      "source": [
        "mean -> df['Col_name']`.mean()` , `.median()` ,` .std()` , `.var()` , `.min()` , `.max()`\n",
        "frequency -> `df['col_name'].value_counts()`\n",
        "\n",
        "else df.mean() , df.var() etc.. for total columns"
      ],
      "metadata": {
        "id": "zXpfyBsP0QGq"
      }
    },
    {
      "cell_type": "markdown",
      "source": [
        "### Necessary codes"
      ],
      "metadata": {
        "id": "pOjRC_K917jc"
      }
    },
    {
      "cell_type": "markdown",
      "source": [
        "libraries\n",
        "import necessary ones\n",
        "```\n",
        "from sklearn.model_selection import train_test_split\n",
        "\n",
        "from sklearn.linear_model import LogisticRegression\n",
        "from sklearn.linear_model import LinearRegression\n",
        "\n",
        "from sklearn.tree import DecisionTreeClassifier\n",
        "\n",
        "from sklearn.cluster import KMeans\n",
        "\n",
        "from sklearn.metric import accuracy_score\n",
        "from sklearn.metric import mean_squared_error\n",
        "from sklearn.metric import classification_report\n",
        "```\n",
        "reading/loading\n",
        "if url is the source\n",
        "```\n",
        "url = ''\n",
        "#list features seperately\n",
        "names = [ '' , '' .. ]\n",
        "df = pd.read_csv( url , names = names )\n",
        "```\n",
        "feature / target variable\n",
        "```\n",
        "X = df.drop('target' , axis =  1 )\n",
        "y = df['target']\n",
        "```\n",
        "test/train splits\n",
        "\n",
        "`X_train,X_test,y_train,y_test = train_test_split(X,y,test_size=0.2,random_state=42)`"
      ],
      "metadata": {
        "id": "R8sCTgj00mE5"
      }
    },
    {
      "cell_type": "markdown",
      "source": [
        "## Model **selection**"
      ],
      "metadata": {
        "id": "YrjTQi6E6IWh"
      }
    },
    {
      "cell_type": "code",
      "source": [
        "model = LogistisRegression()\n",
        "\n",
        "model = LinearRegression()\n",
        "\n",
        "classifier = DecisionTreeClassifier()\n",
        "\n",
        "#finally\n",
        "model/classifier.fit(X_train,y_train)"
      ],
      "metadata": {
        "id": "FcQOYaF-6asw"
      },
      "execution_count": null,
      "outputs": []
    },
    {
      "cell_type": "markdown",
      "source": [
        "Prediction\n",
        "`prediction = model.predict(X_test)`\n",
        "\n",
        "accuracy\n",
        "`accuracy = accuracy_score(y_test,prediction)`\n",
        "\n",
        "classification report\n",
        "`class_rep = classification_report(y_test,prediction)`\n",
        "\n",
        "`mean_squared_error(y_test , prediction)`"
      ],
      "metadata": {
        "id": "fOqQRBob640J"
      }
    },
    {
      "cell_type": "markdown",
      "source": [
        "## Matplot commands"
      ],
      "metadata": {
        "id": "V__ZNEMO7vgA"
      }
    },
    {
      "cell_type": "markdown",
      "source": [
        "```\n",
        "plt.title('')\n",
        "plt.xlable('')\n",
        "plt.ylable('')\n",
        "plt.show()\n",
        "```\n",
        "\n"
      ],
      "metadata": {
        "id": "-72bbTzF8soR"
      }
    },
    {
      "cell_type": "markdown",
      "source": [
        "# Plots"
      ],
      "metadata": {
        "id": "a1B12YIx9FIs"
      }
    },
    {
      "cell_type": "markdown",
      "source": [
        "scatter plot ( to compare 2 features )\n",
        "\n",
        "`sns.scatterplot(data=df, x='sepal length (cm)', y='sepal width (cm)', hue='species')`\n",
        "\n",
        "box\n",
        "`sns.boxplot(x=\"Species\", y=\"PetalLengthCm\", data=iris )`\n",
        "\n",
        "pair plots ```\n",
        "sns.pairplot(df.drop(['Id'], axis = 1), hue='Species', height=2)\n",
        "```\n",
        "\n",
        "histograms\n",
        "`plt.hist(df['col_name'] , bins = 10 )`\n",
        "\n",
        "barplot\n",
        "class_frame = df.groupBy('Species')['petal-width'].mean()\n",
        "class_frame.plot(kind='bar')\n",
        "\n",
        "```\n",
        "heat maps\n",
        "\n",
        "\n",
        "```\n",
        "correlation_matrix  = df.corr()\n",
        "sns.heatmap(correlation_matrix, cmap = 'coolwarm')\n",
        "```\n",
        "\n"
      ],
      "metadata": {
        "id": "QKKjs5pd9cYN"
      }
    }
  ]
}